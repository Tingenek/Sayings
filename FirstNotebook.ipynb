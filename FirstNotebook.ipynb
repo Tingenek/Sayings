{
 "cells": [
  {
   "cell_type": "markdown",
   "metadata": {},
   "source": [
    "## Welcome\n",
    "\n",
    "This notebook is a small guide to using with Python to access MarkLogic data. \n",
    "It comes with a example MarkLogic project you should install first and the rest of this notebook assumes you have done so. The project creates:\n",
    "\n",
    "a) A database with a REST endpoint on port 8334\n",
    "b) A small set of JSON sayings by famous people (in JSON) and some photos of them.\n",
    "\n",
    "We're going to create a small interface that takes a category of saying, e.g. \"inspirational\" and returns a table of people who said them."
   ]
  },
  {
   "cell_type": "markdown",
   "metadata": {},
   "source": [
    "#### If you haven't already done so, deploy the application to your local server by executing the cell below:"
   ]
  },
  {
   "cell_type": "code",
   "execution_count": null,
   "metadata": {
    "scrolled": true
   },
   "outputs": [],
   "source": [
    "!gradle mlDeploy"
   ]
  },
  {
   "cell_type": "markdown",
   "metadata": {},
   "source": [
    "#### Once that's done - load the data into the application"
   ]
  },
  {
   "cell_type": "code",
   "execution_count": null,
   "metadata": {
    "scrolled": true
   },
   "outputs": [],
   "source": [
    "!gradle importData"
   ]
  },
  {
   "cell_type": "markdown",
   "metadata": {},
   "source": [
    "The main data consists of a set of sayings records in JSON as below:\n",
    "```\n",
    "{\n",
    "\"saying\": {\n",
    "    \"quote\": \"Buy the best, and hope it's good enough.\", \n",
    "    \"person\": \"Albert Etter\", \n",
    "    \"born\": \"Siloam Springs, Benton, Arkansas, USA\", \n",
    "    \"dob\": \"1876-09-20\", \n",
    "    \"occupation\": \"train engineer\", \n",
    "    \"category\": [\"practical\",\"fun\"]\n",
    "    }\n",
    "}\n",
    "```\n",
    "First goal then is to get a list of all the unique categories. For that we're usinging the 'values' REST endpoint. To make that work, we have already:\n",
    "\n",
    "- Configured an index on category in the configuration of the [Content database](files/src/main/ml-config/databases/content-database.json).\n",
    "- Created an Options file [sayings-options](files/src/main/ml-modules/options/sayings-options.xml) file to configure the REST call.\n",
    "\n",
    "First off we'll load some libraries we're going to need and set up some global variables for the endpoints\n"
   ]
  },
  {
   "cell_type": "code",
   "execution_count": 128,
   "metadata": {},
   "outputs": [],
   "source": [
    "import requests\n",
    "from requests.auth import HTTPDigestAuth\n",
    "import pandas\n",
    "import json\n",
    "from IPython.display import HTML, display \n",
    "\n",
    "# Some Global Vars\n",
    "PORT=8334\n",
    "HOST=\"localhost\"\n",
    "USER=\"sayings-reader\"\n",
    "PASSWORD=\"sayings-reader\""
   ]
  },
  {
   "cell_type": "markdown",
   "metadata": {},
   "source": [
    "With those in place, we can call the REST endpoint. We'll use the standard Requests library for this.\n",
    "For values, we'll get back both category and count, so we'll create a new list with just the values."
   ]
  },
  {
   "cell_type": "code",
   "execution_count": 129,
   "metadata": {},
   "outputs": [],
   "source": [
    "def ml_values(attr):\n",
    "    url = 'http://%s:%s/v1/values/%s?options=sayings-options' % (HOST,PORT,attr)\n",
    "    headers = {'Accept': 'application/json'}\n",
    "    result = requests.get(url, headers=headers,auth=HTTPDigestAuth(USER,PASSWORD))\n",
    "    status = str(result.status_code)\n",
    "    cats = [] \n",
    "    if status == '200':\n",
    "        v_raw = result.content.decode('utf-8')\n",
    "        v_json=json.loads(v_raw)['values-response']['distinct-value']\n",
    "        for row in v_json:\n",
    "            cats.append(row['_value'])\n",
    "    else:\n",
    "        print(status)\n",
    "        error = result.json()[\"errorResponse\"][\"message\"]\n",
    "        print(error)\n",
    "    return cats"
   ]
  },
  {
   "cell_type": "markdown",
   "metadata": {},
   "source": [
    "If we call it with 'categories' we'll get all the distinct categories."
   ]
  },
  {
   "cell_type": "code",
   "execution_count": 130,
   "metadata": {},
   "outputs": [
    {
     "data": {
      "text/plain": [
       "['fun',\n",
       " 'inspirational',\n",
       " 'political',\n",
       " 'practical',\n",
       " 'pratical',\n",
       " 'religious',\n",
       " 'spiritual']"
      ]
     },
     "execution_count": 130,
     "metadata": {},
     "output_type": "execute_result"
    }
   ],
   "source": [
    "ml_values('categories')"
   ]
  },
  {
   "cell_type": "markdown",
   "metadata": {},
   "source": [
    "Next step is to use the 'search' REST endpoint. This takes a search string and return a set of result for each matching document. \n",
    "Using the search options again, we've set the transform-results to raw - giving us the whole document and the searchable-expression to /sayings to make sure we're just looking at the JSON documents. To make is easier to search for a category in the right property, we've also created a constraint so we can say 'cat:fun' in the search string. "
   ]
  },
  {
   "cell_type": "code",
   "execution_count": 131,
   "metadata": {},
   "outputs": [],
   "source": [
    "def ml_search(query):\n",
    "    url = 'http://%s:%s/v1/search?q=%s&options=sayings-options' % (HOST,PORT,query)\n",
    "    headers = {'Accept': 'application/json'}\n",
    "    result = requests.get(url, headers=headers,auth=HTTPDigestAuth(USER,PASSWORD))\n",
    "    status = str(result.status_code)\n",
    "    v_json = None \n",
    "    if status == '200':\n",
    "        v_raw = result.content.decode('utf-8')\n",
    "        v_json=json.loads(v_raw)['results']\n",
    "    else:\n",
    "        print(status)\n",
    "        error = result.json()[\"errorResponse\"][\"message\"]\n",
    "        print(error)\n",
    "    return v_json"
   ]
  },
  {
   "cell_type": "markdown",
   "metadata": {},
   "source": [
    "Lastly, we create a function to get those results and create a table from them. To avoid clashing with the existing Notebook CSS, we display it isolated in it's own frame."
   ]
  },
  {
   "cell_type": "code",
   "execution_count": 132,
   "metadata": {},
   "outputs": [],
   "source": [
    "def get_category_table(query):\n",
    "    search=ml_search('cat:' + query)\n",
    "    css = \"\"\"<style>\n",
    "#saying {\n",
    "  font-family: \"Trebuchet MS\", Arial, Helvetica, sans-serif;\n",
    "  border-collapse: collapse;\n",
    "  width: 100%;\n",
    "}\n",
    "\n",
    "#saying td, #saying th {\n",
    "  border: 1px solid #ddd;\n",
    "  padding: 8px;\n",
    "}\n",
    "\n",
    "#saying tr:nth-child(even){background-color: #f2f2f2;}\n",
    "\n",
    "#saying tr:hover {background-color: #ddd;}\n",
    "\n",
    "#saying th {\n",
    "  padding-top: 12px;\n",
    "  padding-bottom: 12px;\n",
    "  text-align: left;\n",
    "  background-color: #4CAF50;\n",
    "  color: white;\n",
    "}\n",
    "</style>\"\"\"\n",
    "    display(HTML(css + \n",
    "    '<table id=\"saying\"><tr>{}</tr></table>'.format(\n",
    "    '</tr><tr>'.join('<td>%s</td><td>%s</td>' % (row['content']['quote'],row['content']['person']) for row in search)\n",
    "    )),metadata=dict(isolated=True))"
   ]
  },
  {
   "cell_type": "markdown",
   "metadata": {},
   "source": [
    "If you run this code, say get_category_table('fun'), the search adds the 'cat:' part and then uses the in-built Jupyter display mechanism to show us the HTML."
   ]
  },
  {
   "cell_type": "code",
   "execution_count": 135,
   "metadata": {},
   "outputs": [
    {
     "data": {
      "text/html": [
       "<style>\n",
       "#saying {\n",
       "  font-family: \"Trebuchet MS\", Arial, Helvetica, sans-serif;\n",
       "  border-collapse: collapse;\n",
       "  width: 100%;\n",
       "}\n",
       "\n",
       "#saying td, #saying th {\n",
       "  border: 1px solid #ddd;\n",
       "  padding: 8px;\n",
       "}\n",
       "\n",
       "#saying tr:nth-child(even){background-color: #f2f2f2;}\n",
       "\n",
       "#saying tr:hover {background-color: #ddd;}\n",
       "\n",
       "#saying th {\n",
       "  padding-top: 12px;\n",
       "  padding-bottom: 12px;\n",
       "  text-align: left;\n",
       "  background-color: #4CAF50;\n",
       "  color: white;\n",
       "}\n",
       "</style><table id=\"saying\"><tr><td>The cure for boredom is curiosity. There is no cure for curiosity.</td><td>Ellen Parr</td></tr><tr><td>Patriotism is supporting your country all the time, and your government when it deserves it.</td><td>Mark Twain</td></tr><tr><td>Buy the best, and hope it's good enough.</td><td>Albert Etter</td></tr><tr><td>If you tell the truth, you don't have to remember anything.</td><td>Mark Twain</td></tr><tr><td>The greatest discovery of all time is that a person can change his future by merely changing his attitude.</td><td>Oprah Winfrey</td></tr><tr><td>The best smell is no smell.</td><td>Buzz Stryker</td></tr><tr><td>The best way to predict your future is to create it.</td><td>Abraham Lincoln</td></tr><tr><td>There are two kinds of people, those who do the work and those who take the credit. Try to be in the first group; there is less competition there.</td><td>Indira Gandhi</td></tr><tr><td>Travel is fatal to prejudice, bigotry, and narrow-mindedness.</td><td>Mark Twain</td></tr><tr><td>When I do good, I feel good. When I do bad, I feel bad. That's my religion.</td><td>Abraham Lincoln</td></tr></table>"
      ],
      "text/plain": [
       "<IPython.core.display.HTML object>"
      ]
     },
     "metadata": {
      "isolated": true
     },
     "output_type": "display_data"
    }
   ],
   "source": [
    "get_category_table('fun')"
   ]
  },
  {
   "cell_type": "markdown",
   "metadata": {},
   "source": [
    "That's great, but using the Jupyter Widgets, we can create a little UI of our own.\n",
    "Interact takes our list, displays it and calls the functions each time it changes.\n",
    "\n",
    "Note: This doesn't display in NBConvert/nteract etc, you actually have to be running Jupyter."
   ]
  },
  {
   "cell_type": "code",
   "execution_count": null,
   "metadata": {
    "scrolled": true
   },
   "outputs": [],
   "source": [
    "from __future__ import print_function\n",
    "from ipywidgets import interact, interactive, fixed, interact_manual\n",
    "import ipywidgets as widgets;\n",
    "#get the categories\n",
    "categories = ml_values('categories')\n",
    "#display\n",
    "interact(get_table, query=categories);"
   ]
  },
  {
   "cell_type": "markdown",
   "metadata": {},
   "source": [
    "From here, it's a short step to a dashboard with just the results displayed, widgets to control pagination, a search string."
   ]
  },
  {
   "cell_type": "code",
   "execution_count": null,
   "metadata": {},
   "outputs": [],
   "source": []
  }
 ],
 "metadata": {
  "kernelspec": {
   "display_name": "Python 3",
   "language": "python",
   "name": "python3"
  },
  "language_info": {
   "codemirror_mode": {
    "name": "ipython",
    "version": 3
   },
   "file_extension": ".py",
   "mimetype": "text/x-python",
   "name": "python",
   "nbconvert_exporter": "python",
   "pygments_lexer": "ipython3",
   "version": "3.6.4"
  }
 },
 "nbformat": 4,
 "nbformat_minor": 2
}
