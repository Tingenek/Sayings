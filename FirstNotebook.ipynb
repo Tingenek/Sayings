{
 "cells": [
  {
   "cell_type": "markdown",
   "metadata": {},
   "source": [
    "## Welcome\n",
    "\n",
    "This notebook is a small guide to using with Python to access MarkLogic data. \n",
    "It comes with a example MarkLogic project you should install first and the rest of this notebook assumes you have done so. The project creates:\n",
    "\n",
    "a) A database with a REST endpoint on port 8334\n",
    "b) A small set of JSON sayings by famous people (in JSON) and some photos of them.\n",
    "\n",
    "We're going to create a small interface that takes a category of saying, e.g. \"inspirational\" and returns a list of people who said them."
   ]
  },
  {
   "cell_type": "markdown",
   "metadata": {},
   "source": [
    "#### If you haven't already done so, deploy the application to your local server by executing the cell below:"
   ]
  },
  {
   "cell_type": "code",
   "execution_count": null,
   "metadata": {},
   "outputs": [],
   "source": [
    "!gradle mlDeploy"
   ]
  },
  {
   "cell_type": "markdown",
   "metadata": {},
   "source": [
    "#### Once that's done - load the data into the application"
   ]
  },
  {
   "cell_type": "code",
   "execution_count": null,
   "metadata": {
    "scrolled": true
   },
   "outputs": [],
   "source": [
    "!gradle importData"
   ]
  },
  {
   "cell_type": "markdown",
   "metadata": {},
   "source": [
    "The main data consists of a set of sayings records in JSON as below:\n",
    "```\n",
    "{\n",
    "\"saying\": {\n",
    "    \"quote\": \"Buy the best, and hope it's good enough.\", \n",
    "    \"person\": \"Albert Etter\", \n",
    "    \"born\": \"Siloam Springs, Benton, Arkansas, USA\", \n",
    "    \"dob\": \"1876-09-20\", \n",
    "    \"occupation\": \"train engineer\", \n",
    "    \"category\": [\"practical\",\"fun\"]\n",
    "    }\n",
    "}\n",
    "```\n",
    "First goal then is to get a list of all the unique categories. For that we're usinging the 'values' REST endpoint. To make that work, we have already:\n",
    "\n",
    "- Configured an index on category in the configuration of the [Content database](files/src/main/ml-config/databases/content-database.json).\n",
    "- Created an [Options](files/src/main/ml-modules/options/sayings-options.xml) file to configure the REST call\n",
    "\n",
    "With those in place, we can call the REST endpoint. We'll use the standard Requests library for this. For these sorts of things, it's often easier to work to a DataFrame than raw JSON, so we'll also transform it into that.\n"
   ]
  },
  {
   "cell_type": "code",
   "execution_count": 7,
   "metadata": {},
   "outputs": [],
   "source": [
    "import requests\n",
    "from requests.auth import HTTPDigestAuth\n",
    "import pandas\n",
    "import json"
   ]
  },
  {
   "cell_type": "code",
   "execution_count": 8,
   "metadata": {},
   "outputs": [],
   "source": [
    "def ml_values(attr):\n",
    "    url = 'http://localhost:8334/v1/values/%s?options=sayings-options' % (attr)\n",
    "    headers = {'Accept': 'application/json'}\n",
    "    result = requests.get(url, headers=headers,auth=HTTPDigestAuth('admin','admin'))\n",
    "    status = str(result.status_code)\n",
    "    df = None \n",
    "    if status == '200':\n",
    "        v_raw = result.content.decode('utf-8')\n",
    "        v_json=json.loads(v_raw)['values-response']['distinct-value']\n",
    "        df = pandas.DataFrame.from_dict(v_json).rename(index=str, columns={\"_value\": attr})\n",
    "    else:\n",
    "        print(status)\n",
    "        error = result.json()[\"errorResponse\"][\"message\"]\n",
    "        print(error)\n",
    "    return df"
   ]
  },
  {
   "cell_type": "code",
   "execution_count": 9,
   "metadata": {},
   "outputs": [
    {
     "data": {
      "text/html": [
       "<div>\n",
       "<style scoped>\n",
       "    .dataframe tbody tr th:only-of-type {\n",
       "        vertical-align: middle;\n",
       "    }\n",
       "\n",
       "    .dataframe tbody tr th {\n",
       "        vertical-align: top;\n",
       "    }\n",
       "\n",
       "    .dataframe thead th {\n",
       "        text-align: right;\n",
       "    }\n",
       "</style>\n",
       "<table border=\"1\" class=\"dataframe\">\n",
       "  <thead>\n",
       "    <tr style=\"text-align: right;\">\n",
       "      <th></th>\n",
       "      <th>categories</th>\n",
       "      <th>frequency</th>\n",
       "    </tr>\n",
       "  </thead>\n",
       "  <tbody>\n",
       "    <tr>\n",
       "      <th>0</th>\n",
       "      <td>fun</td>\n",
       "      <td>13</td>\n",
       "    </tr>\n",
       "    <tr>\n",
       "      <th>1</th>\n",
       "      <td>inspirational</td>\n",
       "      <td>23</td>\n",
       "    </tr>\n",
       "    <tr>\n",
       "      <th>2</th>\n",
       "      <td>political</td>\n",
       "      <td>10</td>\n",
       "    </tr>\n",
       "    <tr>\n",
       "      <th>3</th>\n",
       "      <td>practical</td>\n",
       "      <td>12</td>\n",
       "    </tr>\n",
       "    <tr>\n",
       "      <th>4</th>\n",
       "      <td>pratical</td>\n",
       "      <td>1</td>\n",
       "    </tr>\n",
       "    <tr>\n",
       "      <th>5</th>\n",
       "      <td>religious</td>\n",
       "      <td>1</td>\n",
       "    </tr>\n",
       "    <tr>\n",
       "      <th>6</th>\n",
       "      <td>spiritual</td>\n",
       "      <td>9</td>\n",
       "    </tr>\n",
       "  </tbody>\n",
       "</table>\n",
       "</div>"
      ],
      "text/plain": [
       "      categories  frequency\n",
       "0            fun         13\n",
       "1  inspirational         23\n",
       "2      political         10\n",
       "3      practical         12\n",
       "4       pratical          1\n",
       "5      religious          1\n",
       "6      spiritual          9"
      ]
     },
     "execution_count": 9,
     "metadata": {},
     "output_type": "execute_result"
    }
   ],
   "source": [
    "ml_values('categories')"
   ]
  }
 ],
 "metadata": {
  "kernelspec": {
   "display_name": "Python 3",
   "language": "python",
   "name": "python3"
  },
  "language_info": {
   "codemirror_mode": {
    "name": "ipython",
    "version": 3
   },
   "file_extension": ".py",
   "mimetype": "text/x-python",
   "name": "python",
   "nbconvert_exporter": "python",
   "pygments_lexer": "ipython3",
   "version": "3.6.4"
  }
 },
 "nbformat": 4,
 "nbformat_minor": 2
}
